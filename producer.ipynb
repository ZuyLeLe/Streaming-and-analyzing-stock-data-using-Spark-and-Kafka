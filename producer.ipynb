{
 "cells": [
  {
   "cell_type": "code",
   "execution_count": null,
   "id": "initial_id",
   "metadata": {
    "collapsed": true,
    "is_executing": true,
    "ExecuteTime": {
     "start_time": "2024-01-21T14:43:26.145906600Z"
    }
   },
   "outputs": [
    {
     "name": "stdout",
     "output_type": "stream",
     "text": [
      "Kafka Producer Application Started ... \n",
      "Message Type:  <class 'str'>\n",
      "Message:  {\"date\": \"2024-01-19 09:30:00-05:00\", \"open\": 144.74000549316406, \"high\": 144.6199951171875, \"low\": 144.3800048828125, \"close\": 144.6199951171875, \"volume\": 2509646.0}\n",
      "Message Type:  <class 'str'>\n",
      "Message:  {\"date\": \"2024-01-19 09:31:00-05:00\", \"open\": 144.6300048828125, \"high\": 144.9199981689453, \"low\": 144.38999938964844, \"close\": 144.9199981689453, \"volume\": 168719.0}\n",
      "Message Type:  <class 'str'>\n",
      "Message:  {\"date\": \"2024-01-19 09:32:00-05:00\", \"open\": 144.9250030517578, \"high\": 145.25, \"low\": 144.8300018310547, \"close\": 145.25, \"volume\": 326642.0}\n",
      "Message Type:  <class 'str'>\n",
      "Message:  {\"date\": \"2024-01-19 09:33:00-05:00\", \"open\": 145.24000549316406, \"high\": 144.77999877929688, \"low\": 144.75999450683594, \"close\": 144.77999877929688, \"volume\": 153643.0}\n",
      "Message Type:  <class 'str'>\n",
      "Message:  {\"date\": \"2024-01-19 09:34:00-05:00\", \"open\": 144.77999877929688, \"high\": 145.0988006591797, \"low\": 144.67999267578125, \"close\": 145.0988006591797, \"volume\": 111594.0}\n",
      "Message Type:  <class 'str'>\n",
      "Message:  {\"date\": \"2024-01-19 09:35:00-05:00\", \"open\": 145.08999633789062, \"high\": 144.84500122070312, \"low\": 144.80999755859375, \"close\": 144.84500122070312, \"volume\": 123920.0}\n",
      "Message Type:  <class 'str'>\n",
      "Message:  {\"date\": \"2024-01-19 09:36:00-05:00\", \"open\": 144.85000610351562, \"high\": 145.25999450683594, \"low\": 144.85000610351562, \"close\": 145.25999450683594, \"volume\": 170965.0}\n",
      "Message Type:  <class 'str'>\n",
      "Message:  {\"date\": \"2024-01-19 09:37:00-05:00\", \"open\": 145.25, \"high\": 145.1699981689453, \"low\": 144.88999938964844, \"close\": 145.1699981689453, \"volume\": 178830.0}\n",
      "Message Type:  <class 'str'>\n",
      "Message:  {\"date\": \"2024-01-19 09:38:00-05:00\", \"open\": 145.14999389648438, \"high\": 145.09500122070312, \"low\": 144.9250030517578, \"close\": 145.09500122070312, \"volume\": 144059.0}\n",
      "Message Type:  <class 'str'>\n",
      "Message:  {\"date\": \"2024-01-19 09:39:00-05:00\", \"open\": 145.10000610351562, \"high\": 145.0800018310547, \"low\": 144.99000549316406, \"close\": 145.0800018310547, \"volume\": 76581.0}\n",
      "Message Type:  <class 'str'>\n",
      "Message:  {\"date\": \"2024-01-19 09:40:00-05:00\", \"open\": 145.07000732421875, \"high\": 145.1136932373047, \"low\": 144.9600067138672, \"close\": 145.1136932373047, \"volume\": 108475.0}\n",
      "Message Type:  <class 'str'>\n",
      "Message:  {\"date\": \"2024-01-19 09:41:00-05:00\", \"open\": 145.1278076171875, \"high\": 145.27999877929688, \"low\": 145.02999877929688, \"close\": 145.27999877929688, \"volume\": 118327.0}\n",
      "Message Type:  <class 'str'>\n",
      "Message:  {\"date\": \"2024-01-19 09:42:00-05:00\", \"open\": 145.26319885253906, \"high\": 145.50999450683594, \"low\": 145.2100067138672, \"close\": 145.50999450683594, \"volume\": 161856.0}\n",
      "Message Type:  <class 'str'>\n",
      "Message:  {\"date\": \"2024-01-19 09:43:00-05:00\", \"open\": 145.52999877929688, \"high\": 145.60000610351562, \"low\": 145.49000549316406, \"close\": 145.60000610351562, \"volume\": 137155.0}\n",
      "Message Type:  <class 'str'>\n",
      "Message:  {\"date\": \"2024-01-19 09:44:00-05:00\", \"open\": 145.60000610351562, \"high\": 145.5800018310547, \"low\": 145.42999267578125, \"close\": 145.5800018310547, \"volume\": 120626.0}\n",
      "Message Type:  <class 'str'>\n",
      "Message:  {\"date\": \"2024-01-19 09:45:00-05:00\", \"open\": 145.58999633789062, \"high\": 145.39840698242188, \"low\": 145.35000610351562, \"close\": 145.39840698242188, \"volume\": 76868.0}\n",
      "Message Type:  <class 'str'>\n",
      "Message:  {\"date\": \"2024-01-19 09:46:00-05:00\", \"open\": 145.39999389648438, \"high\": 145.4499969482422, \"low\": 145.3300018310547, \"close\": 145.4499969482422, \"volume\": 69222.0}\n",
      "Message Type:  <class 'str'>\n",
      "Message:  {\"date\": \"2024-01-19 09:47:00-05:00\", \"open\": 145.44000244140625, \"high\": 145.40499877929688, \"low\": 145.27000427246094, \"close\": 145.40499877929688, \"volume\": 74786.0}\n",
      "Message Type:  <class 'str'>\n",
      "Message:  {\"date\": \"2024-01-19 09:48:00-05:00\", \"open\": 145.40499877929688, \"high\": 145.39999389648438, \"low\": 145.35499572753906, \"close\": 145.39999389648438, \"volume\": 75332.0}\n",
      "Message Type:  <class 'str'>\n",
      "Message:  {\"date\": \"2024-01-19 09:49:00-05:00\", \"open\": 145.38999938964844, \"high\": 145.05999755859375, \"low\": 145.0449981689453, \"close\": 145.05999755859375, \"volume\": 72738.0}\n",
      "Message Type:  <class 'str'>\n",
      "Message:  {\"date\": \"2024-01-19 09:50:00-05:00\", \"open\": 145.0399932861328, \"high\": 145.08999633789062, \"low\": 144.97000122070312, \"close\": 145.08999633789062, \"volume\": 69344.0}\n",
      "Message Type:  <class 'str'>\n",
      "Message:  {\"date\": \"2024-01-19 09:51:00-05:00\", \"open\": 145.11000061035156, \"high\": 145.24000549316406, \"low\": 145.09500122070312, \"close\": 145.24000549316406, \"volume\": 44761.0}\n"
     ]
    }
   ],
   "source": [
    "\n",
    "import time\n",
    "import json\n",
    "# \n",
    "from kafka import KafkaProducer\n",
    "import yfinance as yf\n",
    "\n",
    "\n",
    "topic = \"Stock_data\"\n",
    "server = 'localhost:9092'\n",
    "\n",
    "\n",
    "print(\"Kafka Producer Application Started ... \")\n",
    "producer = KafkaProducer(bootstrap_servers=server,\n",
    "                         value_serializer=lambda x: x.encode('utf-8'))\n",
    "# Define the ticker symbol\n",
    "tickerSymbol = 'GOOGL'\n",
    "\n",
    "# Get data on this ticker\n",
    "tickerData = yf.Ticker(tickerSymbol)\n",
    "\n",
    "# Get the historical prices for this ticker\n",
    "tickerDf = tickerData.history(period='1d', interval='1m')\n",
    "\n",
    "for  index, row in tickerDf.iterrows():\n",
    "    stock_data = {\n",
    "        'date' : str(index),\n",
    "        'open': row['Open'],\n",
    "        'high': row['Close'],\n",
    "        'low':row['Low'],\n",
    "        'close': row['Close'],\n",
    "        'volume' :row['Volume'],\n",
    "    }\n",
    "    message = json.dumps(stock_data)\n",
    "    print(\"Message Type: \", type(message))\n",
    "    print(\"Message: \", message)\n",
    "    producer.send(topic, message)\n",
    "    producer.flush()\n",
    "    time.sleep(3)\n",
    "\n",
    "print(\"Kafka Producer Application Completed. \")\n"
   ]
  }
 ],
 "metadata": {
  "kernelspec": {
   "display_name": "Python 3",
   "language": "python",
   "name": "python3"
  },
  "language_info": {
   "codemirror_mode": {
    "name": "ipython",
    "version": 2
   },
   "file_extension": ".py",
   "mimetype": "text/x-python",
   "name": "python",
   "nbconvert_exporter": "python",
   "pygments_lexer": "ipython2",
   "version": "2.7.6"
  }
 },
 "nbformat": 4,
 "nbformat_minor": 5
}
